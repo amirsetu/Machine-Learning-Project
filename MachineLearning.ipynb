{
 "cells": [
  {
   "cell_type": "markdown",
   "id": "b1aab9d8",
   "metadata": {},
   "source": [
    "# Use Machine Learning to increase sales (Music Streaming)\n",
    "\n",
    "In this project we have an online music store. When our users signup, we ask their **age** and **gender**, and based on their profile we recommand various music albums they're likely to buy. \n",
    "The goal of our project is \n",
    " + Increase sales using Machine Learning \n",
    "\n",
    "### The process of this project\n",
    " + Building a model\n",
    " + Feeding this model with some sample data based on existing users\n",
    " + Model will learn patterns in data\n",
    " + Ask model to make predictions\n",
    "\n",
    "### What we aks from our model and how the model responses\n",
    " + We have a new user with this profile; what is the kind of music this user interested in?\n",
    " + Model will likely answer \"Jazz\", \"Hip-Hop\", \"Classic\", or etc.\n",
    " + Based on this prediction we can suggest music to this user\n",
    "\n",
    "### Steps of this project\n",
    " 1. Import Data\n",
    " 2. Clean the data\n",
    " 3. Split the data into Training/Test sets\n",
    " 4. Create a Model\n",
    " 5. Train the Model\n",
    " 6. Make prediction\n",
    " 7. Evaluate and Improve "
   ]
  },
  {
   "cell_type": "code",
   "execution_count": 53,
   "id": "8674e0f4",
   "metadata": {},
   "outputs": [
    {
     "data": {
      "text/plain": [
       "array(['HipHop', 'Dance'], dtype=object)"
      ]
     },
     "execution_count": 53,
     "metadata": {},
     "output_type": "execute_result"
    }
   ],
   "source": [
    "# importing pandas library and reading the music.csv file as our Data\n",
    "\n",
    "import pandas as pd\n",
    "\n",
    "\n",
    "\n",
    "# from sklearn (which is a package of scikit-learn library) we import DecisionTreeClassifier class (this class implement DecisioTree algorithm)\n",
    "\n",
    "from sklearn.tree import DecisionTreeClassifier\n",
    "\n",
    "\n",
    "\n",
    "music_data = pd.read_csv('music.csv')\n",
    "X = music_data.drop(columns=['genre'])\n",
    "y = music_data['genre']\n",
    "\n",
    "\n",
    "# creating new instance\n",
    "\n",
    "model = DecisionTreeClassifier()\n",
    "\n",
    "# train the model\n",
    "\n",
    "model.fit(X.values, y) #Here x.values will have only values without headers to avoid sklearn error\n",
    "\n",
    "# ask model to predict\n",
    "\n",
    "predictions = model.predict([ [21, 1], [22, 0] ])\n",
    "\n",
    "predictions\n"
   ]
  },
  {
   "cell_type": "markdown",
   "id": "6a7e22a0",
   "metadata": {},
   "source": [
    "### Measure the accuracy of the data\n",
    "\n",
    "In order to do this we need to split our data to two different data sets, one for training (80% of our data) and another one for testing (20% of our data). \n",
    "So, we add the following code `from sklearn.model_selection import train_test_split`"
   ]
  },
  {
   "cell_type": "code",
   "execution_count": 66,
   "id": "302ddfcb",
   "metadata": {},
   "outputs": [
    {
     "data": {
      "text/plain": [
       "0.75"
      ]
     },
     "execution_count": 66,
     "metadata": {},
     "output_type": "execute_result"
    }
   ],
   "source": [
    "import pandas as pd\n",
    "from sklearn.tree import DecisionTreeClassifier\n",
    "from sklearn.model_selection import train_test_split\n",
    "from sklearn.metrics import accuracy_score\n",
    "\n",
    "\n",
    "music_data = pd.read_csv('music.csv')\n",
    "X = music_data.drop(columns=['genre'])\n",
    "y = music_data['genre']\n",
    "X_train, X_test, y_train, y_test = train_test_split(X, y, test_size=0.2)\n",
    "\n",
    "\n",
    "model = DecisionTreeClassifier()\n",
    "model.fit(X_train, y_train)\n",
    "predictions = model.predict(X_test)\n",
    "\n",
    "score = accuracy_score(y_test, predictions)\n",
    "score"
   ]
  },
  {
   "cell_type": "markdown",
   "id": "fd48a06a",
   "metadata": {},
   "source": [
    "### Creating a trained-model and saving it \n",
    "In order to create a trained-model we `ìmport joblib`which save our trained-model on our machine."
   ]
  },
  {
   "cell_type": "code",
   "execution_count": null,
   "id": "6ec3df11",
   "metadata": {},
   "outputs": [],
   "source": [
    "import pandas as pd\n",
    "from sklearn.tree import DecisionTreeClassifier\n",
    "import joblib\n",
    "\n",
    "\n",
    "music_data = pd.read_csv('music.csv')\n",
    "X = music_data.drop(columns=['genre'])\n",
    "y = music_data['genre']\n",
    "\n",
    "\n",
    "model = DecisionTreeClassifier()\n",
    "model.fit(X.values, y)\n",
    "\n",
    "joblib.dump(model, 'music-recommander.joblib')\n",
    "\n",
    "# predictions = model.predict([ [21, 1], [22, 0] ])\n",
    "\n",
    "\n"
   ]
  },
  {
   "cell_type": "markdown",
   "id": "ca573c0c",
   "metadata": {},
   "source": [
    "### Using a trained-model \n",
    "By using this code: `joblib.load('music-recommander.joblib')`we could call our trained-model and let it predict the result."
   ]
  },
  {
   "cell_type": "code",
   "execution_count": 54,
   "id": "57a860de",
   "metadata": {},
   "outputs": [
    {
     "data": {
      "text/plain": [
       "array(['HipHop', 'Dance'], dtype=object)"
      ]
     },
     "execution_count": 54,
     "metadata": {},
     "output_type": "execute_result"
    }
   ],
   "source": [
    "import pandas as pd\n",
    "from sklearn.tree import DecisionTreeClassifier\n",
    "import joblib\n",
    "\n",
    "\n",
    "# music_data = pd.read_csv('music.csv')\n",
    "# X = music_data.drop(columns=['genre'])\n",
    "# y = music_data['genre']\n",
    "\n",
    "\n",
    "# model = DecisionTreeClassifier()\n",
    "# model.fit(X.values, y)\n",
    "\n",
    "model = joblib.load('music-recommander.joblib') # loading the trained model and making prediciton\n",
    "\n",
    "predictions = model.predict([ [21, 1], [22, 0] ])\n",
    "predictions\n",
    "\n",
    "\n"
   ]
  },
  {
   "cell_type": "markdown",
   "id": "81b27dd1",
   "metadata": {},
   "source": [
    "### Visualizing Decision Tree\n",
    "\n",
    "With the fllowing code we create a `.dot`file and we can open it with **vscode**."
   ]
  },
  {
   "cell_type": "code",
   "execution_count": 67,
   "id": "e415f181",
   "metadata": {},
   "outputs": [],
   "source": [
    "import pandas as pd\n",
    "from sklearn.tree import DecisionTreeClassifier\n",
    "from sklearn import tree\n",
    "\n",
    "music_data = pd.read_csv('music.csv')\n",
    "X = music_data.drop(columns=['genre'])\n",
    "y = music_data['genre']\n",
    "\n",
    "\n",
    "model = DecisionTreeClassifier()\n",
    "model.fit(X_train, y_train)\n",
    "\n",
    "tree.export_graphviz(model, out_file='music-recommander.dot',\n",
    "                    feature_names=[ 'age', 'gender'],\n",
    "                    class_names=sorted(y.unique()), \n",
    "                    label='all',\n",
    "                    rounded = True,\n",
    "                    filled=True)"
   ]
  }
 ],
 "metadata": {
  "kernelspec": {
   "display_name": "Python 3 (ipykernel)",
   "language": "python",
   "name": "python3"
  },
  "language_info": {
   "codemirror_mode": {
    "name": "ipython",
    "version": 3
   },
   "file_extension": ".py",
   "mimetype": "text/x-python",
   "name": "python",
   "nbconvert_exporter": "python",
   "pygments_lexer": "ipython3",
   "version": "3.9.13"
  }
 },
 "nbformat": 4,
 "nbformat_minor": 5
}
